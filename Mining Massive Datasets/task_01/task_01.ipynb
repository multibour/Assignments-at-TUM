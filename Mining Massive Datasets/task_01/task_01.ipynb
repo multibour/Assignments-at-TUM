{
 "cells": [
  {
   "cell_type": "markdown",
   "metadata": {},
   "source": [
    "# Project task 01: Near duplicate detection with LSH"
   ]
  },
  {
   "cell_type": "code",
   "execution_count": 1,
   "metadata": {},
   "outputs": [],
   "source": [
    "import gzip\n",
    "import tarfile\n",
    "\n",
    "import numpy as np\n",
    "import pandas as pd\n",
    "import time\n",
    "\n",
    "from sklearn import preprocessing\n",
    "from collections import defaultdict\n",
    "\n",
    "import matplotlib.pyplot as plt\n",
    "%matplotlib inline"
   ]
  },
  {
   "cell_type": "markdown",
   "metadata": {},
   "source": [
    "To goal of this task is to find near duplicate songs in the Million Song dataset. You can imagine a scenario were the same song appears on multiple different releases with only small feature variation (e.g. duration or loudness)."
   ]
  },
  {
   "cell_type": "markdown",
   "metadata": {},
   "source": [
    "## 1. Load data and extract the data"
   ]
  },
  {
   "cell_type": "markdown",
   "metadata": {},
   "source": [
    "We'll be working with the Million Songs Dataset, a freely-available collection of audio features and metadata for a million contemporary popular music tracks.\n",
    "\n",
    "Specifically, we will work with a smaller subset of 10 000 songs ([download link](http://static.echonest.com/millionsongsubset_full.tar.gz))."
   ]
  },
  {
   "cell_type": "code",
   "execution_count": 2,
   "metadata": {},
   "outputs": [],
   "source": [
    "tar = tarfile.open('millionsongsubset_full.tar.gz', 'r')\n",
    "members = tar.getmembers()"
   ]
  },
  {
   "cell_type": "code",
   "execution_count": 3,
   "metadata": {},
   "outputs": [],
   "source": [
    "tar.extract(members[5])\n",
    "summary = pd.HDFStore(members[5].name)\n",
    "songs = summary['/analysis/songs']"
   ]
  },
  {
   "cell_type": "markdown",
   "metadata": {},
   "source": [
    "Show a snippet of how the data looks like:"
   ]
  },
  {
   "cell_type": "code",
   "execution_count": 4,
   "metadata": {},
   "outputs": [
    {
     "data": {
      "text/html": [
       "<div>\n",
       "<style scoped>\n",
       "    .dataframe tbody tr th:only-of-type {\n",
       "        vertical-align: middle;\n",
       "    }\n",
       "\n",
       "    .dataframe tbody tr th {\n",
       "        vertical-align: top;\n",
       "    }\n",
       "\n",
       "    .dataframe thead th {\n",
       "        text-align: right;\n",
       "    }\n",
       "</style>\n",
       "<table border=\"1\" class=\"dataframe\">\n",
       "  <thead>\n",
       "    <tr style=\"text-align: right;\">\n",
       "      <th></th>\n",
       "      <th>analysis_sample_rate</th>\n",
       "      <th>audio_md5</th>\n",
       "      <th>danceability</th>\n",
       "      <th>duration</th>\n",
       "      <th>end_of_fade_in</th>\n",
       "      <th>energy</th>\n",
       "      <th>idx_bars_confidence</th>\n",
       "      <th>idx_bars_start</th>\n",
       "      <th>idx_beats_confidence</th>\n",
       "      <th>idx_beats_start</th>\n",
       "      <th>...</th>\n",
       "      <th>key</th>\n",
       "      <th>key_confidence</th>\n",
       "      <th>loudness</th>\n",
       "      <th>mode</th>\n",
       "      <th>mode_confidence</th>\n",
       "      <th>start_of_fade_out</th>\n",
       "      <th>tempo</th>\n",
       "      <th>time_signature</th>\n",
       "      <th>time_signature_confidence</th>\n",
       "      <th>track_id</th>\n",
       "    </tr>\n",
       "  </thead>\n",
       "  <tbody>\n",
       "    <tr>\n",
       "      <th>0</th>\n",
       "      <td>22050</td>\n",
       "      <td>a600d65cf157a306be60f26ecbf218f4</td>\n",
       "      <td>0.0</td>\n",
       "      <td>280.21506</td>\n",
       "      <td>0.238</td>\n",
       "      <td>0.0</td>\n",
       "      <td>0</td>\n",
       "      <td>0</td>\n",
       "      <td>0</td>\n",
       "      <td>0</td>\n",
       "      <td>...</td>\n",
       "      <td>5</td>\n",
       "      <td>0.555</td>\n",
       "      <td>-3.306</td>\n",
       "      <td>1</td>\n",
       "      <td>0.500</td>\n",
       "      <td>275.528</td>\n",
       "      <td>173.205</td>\n",
       "      <td>5</td>\n",
       "      <td>0.120</td>\n",
       "      <td>TRACCVZ128F4291A8A</td>\n",
       "    </tr>\n",
       "    <tr>\n",
       "      <th>1</th>\n",
       "      <td>22050</td>\n",
       "      <td>c64d75b0588e5ab552ee94548b50a4fa</td>\n",
       "      <td>0.0</td>\n",
       "      <td>191.68608</td>\n",
       "      <td>0.000</td>\n",
       "      <td>0.0</td>\n",
       "      <td>0</td>\n",
       "      <td>0</td>\n",
       "      <td>0</td>\n",
       "      <td>0</td>\n",
       "      <td>...</td>\n",
       "      <td>0</td>\n",
       "      <td>0.501</td>\n",
       "      <td>-10.764</td>\n",
       "      <td>1</td>\n",
       "      <td>0.710</td>\n",
       "      <td>184.128</td>\n",
       "      <td>150.955</td>\n",
       "      <td>4</td>\n",
       "      <td>0.600</td>\n",
       "      <td>TRACCMH128F428E4CD</td>\n",
       "    </tr>\n",
       "    <tr>\n",
       "      <th>2</th>\n",
       "      <td>22050</td>\n",
       "      <td>0cadd310865701bb93ced1cd78e8910a</td>\n",
       "      <td>0.0</td>\n",
       "      <td>222.92853</td>\n",
       "      <td>0.000</td>\n",
       "      <td>0.0</td>\n",
       "      <td>0</td>\n",
       "      <td>0</td>\n",
       "      <td>0</td>\n",
       "      <td>0</td>\n",
       "      <td>...</td>\n",
       "      <td>1</td>\n",
       "      <td>0.329</td>\n",
       "      <td>-9.035</td>\n",
       "      <td>1</td>\n",
       "      <td>0.407</td>\n",
       "      <td>216.300</td>\n",
       "      <td>93.056</td>\n",
       "      <td>4</td>\n",
       "      <td>1.000</td>\n",
       "      <td>TRACCSW128F148C7C3</td>\n",
       "    </tr>\n",
       "    <tr>\n",
       "      <th>3</th>\n",
       "      <td>22050</td>\n",
       "      <td>14be4fc1170152c445b3be7b8d18dfec</td>\n",
       "      <td>0.0</td>\n",
       "      <td>278.38649</td>\n",
       "      <td>0.496</td>\n",
       "      <td>0.0</td>\n",
       "      <td>0</td>\n",
       "      <td>0</td>\n",
       "      <td>0</td>\n",
       "      <td>0</td>\n",
       "      <td>...</td>\n",
       "      <td>7</td>\n",
       "      <td>0.313</td>\n",
       "      <td>-23.095</td>\n",
       "      <td>1</td>\n",
       "      <td>0.387</td>\n",
       "      <td>278.386</td>\n",
       "      <td>127.113</td>\n",
       "      <td>1</td>\n",
       "      <td>0.446</td>\n",
       "      <td>TRACCXJ128F428F0CF</td>\n",
       "    </tr>\n",
       "    <tr>\n",
       "      <th>4</th>\n",
       "      <td>22050</td>\n",
       "      <td>1def5d8298e8cb29a188a5a7c0e9429a</td>\n",
       "      <td>0.0</td>\n",
       "      <td>89.15546</td>\n",
       "      <td>4.847</td>\n",
       "      <td>0.0</td>\n",
       "      <td>0</td>\n",
       "      <td>0</td>\n",
       "      <td>0</td>\n",
       "      <td>0</td>\n",
       "      <td>...</td>\n",
       "      <td>2</td>\n",
       "      <td>0.000</td>\n",
       "      <td>-20.359</td>\n",
       "      <td>1</td>\n",
       "      <td>0.000</td>\n",
       "      <td>79.203</td>\n",
       "      <td>90.660</td>\n",
       "      <td>3</td>\n",
       "      <td>0.524</td>\n",
       "      <td>TRACCVS12903D014F8</td>\n",
       "    </tr>\n",
       "  </tbody>\n",
       "</table>\n",
       "<p>5 rows × 31 columns</p>\n",
       "</div>"
      ],
      "text/plain": [
       "   analysis_sample_rate                         audio_md5  danceability  \\\n",
       "0                 22050  a600d65cf157a306be60f26ecbf218f4           0.0   \n",
       "1                 22050  c64d75b0588e5ab552ee94548b50a4fa           0.0   \n",
       "2                 22050  0cadd310865701bb93ced1cd78e8910a           0.0   \n",
       "3                 22050  14be4fc1170152c445b3be7b8d18dfec           0.0   \n",
       "4                 22050  1def5d8298e8cb29a188a5a7c0e9429a           0.0   \n",
       "\n",
       "    duration  end_of_fade_in  energy  idx_bars_confidence  idx_bars_start  \\\n",
       "0  280.21506           0.238     0.0                    0               0   \n",
       "1  191.68608           0.000     0.0                    0               0   \n",
       "2  222.92853           0.000     0.0                    0               0   \n",
       "3  278.38649           0.496     0.0                    0               0   \n",
       "4   89.15546           4.847     0.0                    0               0   \n",
       "\n",
       "   idx_beats_confidence  idx_beats_start  ...  key  key_confidence  loudness  \\\n",
       "0                     0                0  ...    5           0.555    -3.306   \n",
       "1                     0                0  ...    0           0.501   -10.764   \n",
       "2                     0                0  ...    1           0.329    -9.035   \n",
       "3                     0                0  ...    7           0.313   -23.095   \n",
       "4                     0                0  ...    2           0.000   -20.359   \n",
       "\n",
       "   mode  mode_confidence  start_of_fade_out    tempo  time_signature  \\\n",
       "0     1            0.500            275.528  173.205               5   \n",
       "1     1            0.710            184.128  150.955               4   \n",
       "2     1            0.407            216.300   93.056               4   \n",
       "3     1            0.387            278.386  127.113               1   \n",
       "4     1            0.000             79.203   90.660               3   \n",
       "\n",
       "   time_signature_confidence            track_id  \n",
       "0                      0.120  TRACCVZ128F4291A8A  \n",
       "1                      0.600  TRACCMH128F428E4CD  \n",
       "2                      1.000  TRACCSW128F148C7C3  \n",
       "3                      0.446  TRACCXJ128F428F0CF  \n",
       "4                      0.524  TRACCVS12903D014F8  \n",
       "\n",
       "[5 rows x 31 columns]"
      ]
     },
     "execution_count": 4,
     "metadata": {},
     "output_type": "execute_result"
    }
   ],
   "source": [
    "songs.head()"
   ]
  },
  {
   "cell_type": "markdown",
   "metadata": {
    "collapsed": true
   },
   "source": [
    "We should have $31$ columns and $10~000$ rows."
   ]
  },
  {
   "cell_type": "code",
   "execution_count": 5,
   "metadata": {},
   "outputs": [
    {
     "name": "stdout",
     "output_type": "stream",
     "text": [
      "10000\n"
     ]
    }
   ],
   "source": [
    "print(len(songs))"
   ]
  },
  {
   "cell_type": "markdown",
   "metadata": {},
   "source": [
    "Since not all features are important we are going to consider a subset of features (columns) that are relevant for duplicate detection.\n",
    "\n",
    "We will also convert the pandas dataframe into a numpy array so it is easier to work with."
   ]
  },
  {
   "cell_type": "code",
   "execution_count": 6,
   "metadata": {},
   "outputs": [],
   "source": [
    "subset = songs[['duration', 'end_of_fade_in', 'key', 'loudness',\n",
    "                'mode', 'start_of_fade_out', 'tempo', 'time_signature',]]\n",
    "\n",
    "data_matrix = subset.values"
   ]
  },
  {
   "cell_type": "markdown",
   "metadata": {},
   "source": [
    "Additionally we will standardize the data to have zero mean and unit variance as a preprocessing step."
   ]
  },
  {
   "cell_type": "code",
   "execution_count": 7,
   "metadata": {},
   "outputs": [],
   "source": [
    "scaled_data = preprocessing.scale(data_matrix)"
   ]
  },
  {
   "cell_type": "markdown",
   "metadata": {},
   "source": [
    "## 2. Implementaion\n",
    "\n",
    "Your task is to implement near duplicate detection using LSH with cosine similarity.\n",
    "More specifically you have to:\n",
    "* Generate duplicate **candidates** based on LSH with $b$ bands and $r$ rows per band\n",
    "* Refine the candidates by computing the exact cosine distance\n",
    "* Report all pairs/duplicates with cosine distance < $d$"
   ]
  },
  {
   "cell_type": "markdown",
   "metadata": {},
   "source": [
    "Implement a function that computes the cosine distance between two rows (instances) in the data."
   ]
  },
  {
   "cell_type": "code",
   "execution_count": 8,
   "metadata": {},
   "outputs": [],
   "source": [
    "def cosine_distance(X, i, j):\n",
    "    \"\"\"Compute cosine distance between two rows of a data matrix.\n",
    "    \n",
    "    Parameters\n",
    "    ----------\n",
    "    X : np.array, shape [N, D]\n",
    "        Data matrix.\n",
    "    i : int\n",
    "        Index of the first row.\n",
    "    j : int\n",
    "        Index of the second row.\n",
    "        \n",
    "    Returns\n",
    "    -------\n",
    "    d : float\n",
    "        Cosine distance between the two rows of the data matrix.\n",
    "        \n",
    "    \"\"\"\n",
    "    d = None\n",
    "    \n",
    "    ### YOUR CODE HERE ###\n",
    "    d = np.dot(X[i], X[j]) / (np.sqrt(np.sum(np.square(X[i]))) * (np.sqrt(np.sum(np.square(X[j])))))\n",
    "    d = 1 - d\n",
    "    \n",
    "    return d"
   ]
  },
  {
   "cell_type": "markdown",
   "metadata": {},
   "source": [
    "Cosine distance between the 5-th and the 28-th instance"
   ]
  },
  {
   "cell_type": "code",
   "execution_count": 9,
   "metadata": {},
   "outputs": [
    {
     "name": "stdout",
     "output_type": "stream",
     "text": [
      "0.7273\n"
     ]
    }
   ],
   "source": [
    "print('{:.4f}'.format(cosine_distance(scaled_data, 5, 28)))"
   ]
  },
  {
   "cell_type": "code",
   "execution_count": 10,
   "metadata": {},
   "outputs": [],
   "source": [
    "def LSH(X, b=8, r=32, d=0.3):\n",
    "    \"\"\"Find candidate duplicate pairs using LSH and refine using exact cosine distance.\n",
    "    \n",
    "    Parameters\n",
    "    ----------\n",
    "    X : np.array shape [N, D]\n",
    "        Data matrix.\n",
    "    b : int\n",
    "        Number of bands.\n",
    "    r : int\n",
    "        Number of rows per band.\n",
    "    d : float\n",
    "        Distance treshold for reporting duplicates.\n",
    "    \n",
    "    Returns\n",
    "    -------\n",
    "    duplicates : {(ID1, ID2, d_{12}), ..., (IDX, IDY, d_{xy})}\n",
    "        A set of tuples indicating the detected duplicates.\n",
    "        Each tuple should have 3 elements:\n",
    "            * ID of the first song\n",
    "            * ID of the second song\n",
    "            * The cosine distance between them\n",
    "    \n",
    "    n_candidates : int\n",
    "        Number of detected candidate pairs.\n",
    "        \n",
    "    \"\"\"\n",
    "    \n",
    "    np.random.seed(158)\n",
    "    n_candidates = 0\n",
    "    duplicates = set()\n",
    "    candidates = set()\n",
    "    \n",
    "    ### YOUR CODE HERE ###\n",
    "    N, D = X.shape\n",
    "    n_buckets = int(512 * np.ceil(np.log2(N)))\n",
    "    \n",
    "    buckets = [list() for _ in range(n_buckets)]\n",
    "    \n",
    "    vectors = np.random.normal(0, 1,(D, r*b))\n",
    "    \n",
    "    sketch = X @ vectors\n",
    "    sketch[sketch>=0] = 1\n",
    "    sketch[sketch<0] = -1\n",
    "    \n",
    "    for band in range(b):\n",
    "        matrix = sketch[:, band*r:(band+1)*r]\n",
    "        \n",
    "        # add data to their corresponding buckets\n",
    "        for row in range(N):\n",
    "            bucket_id = hash(tuple(matrix[row])) % n_buckets\n",
    "            buckets[bucket_id].append(row)\n",
    "        \n",
    "        # look at buckets for candidates\n",
    "        for bucket in buckets:\n",
    "            bucket.sort()\n",
    "            for row_1_index in range(len(bucket)):\n",
    "                for row_2 in bucket[row_1_index+1:]:\n",
    "                    candidates.add((bucket[row_1_index], row_2))\n",
    "        \n",
    "        # reset all buckets\n",
    "        for bucket in buckets:\n",
    "            bucket.clear()\n",
    "                    \n",
    "    n_candidates = len(candidates)\n",
    "    \n",
    "    for cand in candidates:\n",
    "        dist = cosine_distance(X, cand[0], cand[1])\n",
    "        if dist < d:\n",
    "            duplicates.add((cand[0], cand[1], dist))\n",
    "            \n",
    "    return duplicates, n_candidates"
   ]
  },
  {
   "cell_type": "code",
   "execution_count": 11,
   "metadata": {},
   "outputs": [],
   "source": [
    "duplicates, n_candidates = LSH(scaled_data, b=3, r=64, d=0.0003)"
   ]
  },
  {
   "cell_type": "code",
   "execution_count": 12,
   "metadata": {},
   "outputs": [
    {
     "name": "stdout",
     "output_type": "stream",
     "text": [
      "We detected 24603 candidates.\n"
     ]
    }
   ],
   "source": [
    "print('We detected {} candidates.'.format(n_candidates))"
   ]
  },
  {
   "cell_type": "markdown",
   "metadata": {},
   "source": [
    "Show the duplicates we have found:"
   ]
  },
  {
   "cell_type": "code",
   "execution_count": 13,
   "metadata": {},
   "outputs": [
    {
     "data": {
      "text/plain": [
       "{(99, 9651, 0.0002776014724606979),\n",
       " (612, 2569, 0.0),\n",
       " (3088, 5529, 0.0001736466813448967)}"
      ]
     },
     "execution_count": 13,
     "metadata": {},
     "output_type": "execute_result"
    }
   ],
   "source": [
    "duplicates"
   ]
  },
  {
   "cell_type": "markdown",
   "metadata": {},
   "source": [
    "Show the metadata for the songs that were detected as duplicates:"
   ]
  },
  {
   "cell_type": "code",
   "execution_count": 14,
   "metadata": {
    "scrolled": false
   },
   "outputs": [
    {
     "name": "stdout",
     "output_type": "stream",
     "text": [
      "Song ID 1: 99\n",
      "Song ID 2: 9651\n",
      "Distance: 0.000278\n",
      "This Time I Know - Theodis Ealey\n",
      "Would? - Alice In Chains\n",
      "\n",
      "Song ID 1: 3088\n",
      "Song ID 2: 5529\n",
      "Distance: 0.000174\n",
      "Quiet Time - Regina Belle\n",
      "Quiet Time - Regina Belle\n",
      "\n",
      "Song ID 1: 612\n",
      "Song ID 2: 2569\n",
      "Distance: 0.000000\n",
      "Mary Had A Little Lamb - Stevie Ray Vaughan And Double Trouble\n",
      "Mary Had A Little Lamb - Stevie Ray Vaughan And Double Trouble\n",
      "\n"
     ]
    }
   ],
   "source": [
    "for i, j, d in duplicates:\n",
    "    print('Song ID 1: {}'.format(i),\n",
    "          'Song ID 2: {}'.format(j),\n",
    "          'Distance: {:.6f}'.format(d),\n",
    "          summary['/metadata/songs'].loc[i][['title', 'artist_name']].str.cat(sep=' - '),\n",
    "          summary['/metadata/songs'].loc[j][['title', 'artist_name']].str.cat(sep=' - '), sep='\\n')\n",
    "    print()"
   ]
  },
  {
   "cell_type": "markdown",
   "metadata": {},
   "source": [
    "## 3. Compare runtime"
   ]
  },
  {
   "cell_type": "markdown",
   "metadata": {},
   "source": [
    "Your task is to implement code for runtime comparison between LSH and the naive nested for loop implementation."
   ]
  },
  {
   "cell_type": "code",
   "execution_count": 15,
   "metadata": {},
   "outputs": [],
   "source": [
    "# naively compute the duplicates using a double for loop\n",
    "def naive_duplicates(X, d = 0.2):\n",
    "    \"\"\"\n",
    "    Parameters\n",
    "    ----------\n",
    "    X : np.array, shape [N, D]\n",
    "        Data matrix.\n",
    "    d : float\n",
    "        Distance treshold for reporting duplicates.\n",
    "    \n",
    "    Returns\n",
    "    -------\n",
    "    duplicates : {(ID1, ID2, d_{12}), ..., (IDX, IDY, d_{xy})}\n",
    "        A set of tuples indicating the detected duplicates.\n",
    "        Each tuple should have 3 elements:\n",
    "            * ID of the first song\n",
    "            * ID of the second song\n",
    "            * The cosine distance between them\n",
    "    \"\"\"\n",
    "    N = X.shape[0]\n",
    "    duplicates = set()\n",
    "    for i in range(N):\n",
    "        for j in range(N):\n",
    "            d_ij = cosine_distance(X, i, j)\n",
    "            if d_ij < d and i != j:\n",
    "                duplicates.add((i, j, d_ij))\n",
    "    return duplicates"
   ]
  },
  {
   "cell_type": "code",
   "execution_count": 16,
   "metadata": {},
   "outputs": [],
   "source": [
    "def runtime_comparison(X):\n",
    "    \"\"\"\n",
    "    Compare the runtime between LSH and the naive approach.\n",
    "    \n",
    "    Returns\n",
    "    -------\n",
    "    trace : [(n1, lsh_dur, naive_dur), (n2, lsh_dur, naive_dur), ... ]\n",
    "            A list of tuples with execution times for different number of songs.\n",
    "            Each tuple should have 3 elements:\n",
    "                * number of songs considered\n",
    "                * duration of the LSH approach\n",
    "                * duration of the naive approach\n",
    "    \"\"\"\n",
    "    trace = []\n",
    "    for n in np.arange(25, 251, 25):\n",
    "        print('Running comparison for {} songs.'.format(n))\n",
    "        \n",
    "        ### YOUR CODE HERE ###\n",
    "        start = time.time()\n",
    "        naive_duplicates(X[0:n,:])\n",
    "        total_time_naive = time.time() - start\n",
    "        \n",
    "        start = time.time()\n",
    "        LSH(X[0:n,:])\n",
    "        total_time_lsh = time.time() - start\n",
    "        \n",
    "        trace.append((n,total_time_lsh,total_time_naive))\n",
    "        \n",
    "    return trace"
   ]
  },
  {
   "cell_type": "code",
   "execution_count": 17,
   "metadata": {
    "scrolled": false
   },
   "outputs": [
    {
     "name": "stdout",
     "output_type": "stream",
     "text": [
      "Running comparison for 25 songs.\n",
      "Running comparison for 50 songs.\n",
      "Running comparison for 75 songs.\n",
      "Running comparison for 100 songs.\n",
      "Running comparison for 125 songs.\n",
      "Running comparison for 150 songs.\n",
      "Running comparison for 175 songs.\n",
      "Running comparison for 200 songs.\n",
      "Running comparison for 225 songs.\n",
      "Running comparison for 250 songs.\n"
     ]
    }
   ],
   "source": [
    "trace = runtime_comparison(scaled_data)"
   ]
  },
  {
   "cell_type": "markdown",
   "metadata": {},
   "source": [
    "Plot the differecene in runtime. On the x-axis plot the number of songs processed and on the y-axis plot the runtime in seconds for both approaches. You should obtain a plot similar to the one shown below."
   ]
  },
  {
   "cell_type": "code",
   "execution_count": 18,
   "metadata": {},
   "outputs": [
    {
     "name": "stdout",
     "output_type": "stream",
     "text": [
      "[0.02231884 0.01488018 0.01540542 0.01685977 0.0228157  0.02132773\n",
      " 0.043648   0.02926421 0.02975917 0.02926445]\n"
     ]
    },
    {
     "data": {
      "image/png": "[encoded data removed]",
      "text/plain": [
       "<Figure size 432x288 with 1 Axes>"
      ]
     },
     "metadata": {
      "needs_background": "light"
     },
     "output_type": "display_data"
    }
   ],
   "source": [
    "### YOUR PLOTTING CODE HERE ###\n",
    "trace = np.array(trace)\n",
    "print(trace[:, 1])\n",
    "plt.figure()\n",
    "plt.plot(trace[:, 0], trace[:, 1], label='LSH')\n",
    "plt.plot(trace[:, 0], trace[:, 2], label='Naive')\n",
    "plt.title('Runtime comparison')\n",
    "plt.legend()\n",
    "plt.xlabel('Number of songs processed')\n",
    "plt.ylabel('Time in seconds')\n",
    "plt.show()"
   ]
  },
  {
   "cell_type": "code",
   "execution_count": null,
   "metadata": {},
   "outputs": [],
   "source": []
  },
  {
   "cell_type": "code",
   "execution_count": null,
   "metadata": {},
   "outputs": [],
   "source": []
  }
 ],
 "metadata": {
  "kernelspec": {
   "display_name": "Python 3",
   "language": "python",
   "name": "python3"
  },
  "language_info": {
   "codemirror_mode": {
    "name": "ipython",
    "version": 3
   },
   "file_extension": ".py",
   "mimetype": "text/x-python",
   "name": "python",
   "nbconvert_exporter": "python",
   "pygments_lexer": "ipython3",
   "version": "3.6.8"
  }
 },
 "nbformat": 4,
 "nbformat_minor": 2
}
